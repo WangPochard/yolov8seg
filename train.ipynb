{
 "cells": [
  {
   "cell_type": "code",
   "execution_count": 3,
   "metadata": {},
   "outputs": [
    {
     "name": "stdout",
     "output_type": "stream",
     "text": [
      "True\n",
      "2.1.2\n",
      "12.1\n",
      "cuda_visible_devices: 0\n"
     ]
    }
   ],
   "source": [
    "import os\n",
    "os.environ['KMP_DUPLICATE_LIB_OK'] = 'TRUE'\n",
    "os.environ['CUDA_VISIBLE_DEVICES'] = '0'\n",
    "cuda_visible_devices = os.environ.get('CUDA_VISIBLE_DEVICES')\n",
    "\n",
    "import torch\n",
    "print(torch.cuda.is_available())\n",
    "print(torch.__version__)\n",
    "print(torch.version.cuda)\n",
    "if cuda_visible_devices is not None:\n",
    "    print(f\"cuda_visible_devices: {cuda_visible_devices}\")\n",
    "else:\n",
    "    print('cuda_visible_devices is not set.')"
   ]
  },
  {
   "cell_type": "code",
   "execution_count": 4,
   "metadata": {},
   "outputs": [
    {
     "name": "stdout",
     "output_type": "stream",
     "text": [
      "Layer: model.model.0.conv.weight, Size: torch.Size([16, 3, 3, 3])\n",
      "Layer: model.model.0.bn.weight, Size: torch.Size([16])\n",
      "Layer: model.model.0.bn.bias, Size: torch.Size([16])\n",
      "Layer: model.model.1.conv.weight, Size: torch.Size([32, 16, 3, 3])\n",
      "Layer: model.model.1.bn.weight, Size: torch.Size([32])\n",
      "Layer: model.model.1.bn.bias, Size: torch.Size([32])\n",
      "Layer: model.model.2.cv1.conv.weight, Size: torch.Size([32, 32, 1, 1])\n",
      "Layer: model.model.2.cv1.bn.weight, Size: torch.Size([32])\n",
      "Layer: model.model.2.cv1.bn.bias, Size: torch.Size([32])\n",
      "Layer: model.model.2.cv2.conv.weight, Size: torch.Size([32, 48, 1, 1])\n",
      "Layer: model.model.2.cv2.bn.weight, Size: torch.Size([32])\n",
      "Layer: model.model.2.cv2.bn.bias, Size: torch.Size([32])\n",
      "Layer: model.model.2.m.0.cv1.conv.weight, Size: torch.Size([16, 16, 3, 3])\n",
      "Layer: model.model.2.m.0.cv1.bn.weight, Size: torch.Size([16])\n",
      "Layer: model.model.2.m.0.cv1.bn.bias, Size: torch.Size([16])\n",
      "Layer: model.model.2.m.0.cv2.conv.weight, Size: torch.Size([16, 16, 3, 3])\n",
      "Layer: model.model.2.m.0.cv2.bn.weight, Size: torch.Size([16])\n",
      "Layer: model.model.2.m.0.cv2.bn.bias, Size: torch.Size([16])\n",
      "Layer: model.model.3.conv.weight, Size: torch.Size([64, 32, 3, 3])\n",
      "Layer: model.model.3.bn.weight, Size: torch.Size([64])\n",
      "Layer: model.model.3.bn.bias, Size: torch.Size([64])\n",
      "Layer: model.model.4.cv1.conv.weight, Size: torch.Size([64, 64, 1, 1])\n",
      "Layer: model.model.4.cv1.bn.weight, Size: torch.Size([64])\n",
      "Layer: model.model.4.cv1.bn.bias, Size: torch.Size([64])\n",
      "Layer: model.model.4.cv2.conv.weight, Size: torch.Size([64, 128, 1, 1])\n",
      "Layer: model.model.4.cv2.bn.weight, Size: torch.Size([64])\n",
      "Layer: model.model.4.cv2.bn.bias, Size: torch.Size([64])\n",
      "Layer: model.model.4.m.0.cv1.conv.weight, Size: torch.Size([32, 32, 3, 3])\n",
      "Layer: model.model.4.m.0.cv1.bn.weight, Size: torch.Size([32])\n",
      "Layer: model.model.4.m.0.cv1.bn.bias, Size: torch.Size([32])\n",
      "Layer: model.model.4.m.0.cv2.conv.weight, Size: torch.Size([32, 32, 3, 3])\n",
      "Layer: model.model.4.m.0.cv2.bn.weight, Size: torch.Size([32])\n",
      "Layer: model.model.4.m.0.cv2.bn.bias, Size: torch.Size([32])\n",
      "Layer: model.model.4.m.1.cv1.conv.weight, Size: torch.Size([32, 32, 3, 3])\n",
      "Layer: model.model.4.m.1.cv1.bn.weight, Size: torch.Size([32])\n",
      "Layer: model.model.4.m.1.cv1.bn.bias, Size: torch.Size([32])\n",
      "Layer: model.model.4.m.1.cv2.conv.weight, Size: torch.Size([32, 32, 3, 3])\n",
      "Layer: model.model.4.m.1.cv2.bn.weight, Size: torch.Size([32])\n",
      "Layer: model.model.4.m.1.cv2.bn.bias, Size: torch.Size([32])\n",
      "Layer: model.model.5.conv.weight, Size: torch.Size([128, 64, 3, 3])\n",
      "Layer: model.model.5.bn.weight, Size: torch.Size([128])\n",
      "Layer: model.model.5.bn.bias, Size: torch.Size([128])\n",
      "Layer: model.model.6.cv1.conv.weight, Size: torch.Size([128, 128, 1, 1])\n",
      "Layer: model.model.6.cv1.bn.weight, Size: torch.Size([128])\n",
      "Layer: model.model.6.cv1.bn.bias, Size: torch.Size([128])\n",
      "Layer: model.model.6.cv2.conv.weight, Size: torch.Size([128, 256, 1, 1])\n",
      "Layer: model.model.6.cv2.bn.weight, Size: torch.Size([128])\n",
      "Layer: model.model.6.cv2.bn.bias, Size: torch.Size([128])\n",
      "Layer: model.model.6.m.0.cv1.conv.weight, Size: torch.Size([64, 64, 3, 3])\n",
      "Layer: model.model.6.m.0.cv1.bn.weight, Size: torch.Size([64])\n",
      "Layer: model.model.6.m.0.cv1.bn.bias, Size: torch.Size([64])\n",
      "Layer: model.model.6.m.0.cv2.conv.weight, Size: torch.Size([64, 64, 3, 3])\n",
      "Layer: model.model.6.m.0.cv2.bn.weight, Size: torch.Size([64])\n",
      "Layer: model.model.6.m.0.cv2.bn.bias, Size: torch.Size([64])\n",
      "Layer: model.model.6.m.1.cv1.conv.weight, Size: torch.Size([64, 64, 3, 3])\n",
      "Layer: model.model.6.m.1.cv1.bn.weight, Size: torch.Size([64])\n",
      "Layer: model.model.6.m.1.cv1.bn.bias, Size: torch.Size([64])\n",
      "Layer: model.model.6.m.1.cv2.conv.weight, Size: torch.Size([64, 64, 3, 3])\n",
      "Layer: model.model.6.m.1.cv2.bn.weight, Size: torch.Size([64])\n",
      "Layer: model.model.6.m.1.cv2.bn.bias, Size: torch.Size([64])\n",
      "Layer: model.model.7.conv.weight, Size: torch.Size([256, 128, 3, 3])\n",
      "Layer: model.model.7.bn.weight, Size: torch.Size([256])\n",
      "Layer: model.model.7.bn.bias, Size: torch.Size([256])\n",
      "Layer: model.model.8.cv1.conv.weight, Size: torch.Size([256, 256, 1, 1])\n",
      "Layer: model.model.8.cv1.bn.weight, Size: torch.Size([256])\n",
      "Layer: model.model.8.cv1.bn.bias, Size: torch.Size([256])\n",
      "Layer: model.model.8.cv2.conv.weight, Size: torch.Size([256, 384, 1, 1])\n",
      "Layer: model.model.8.cv2.bn.weight, Size: torch.Size([256])\n",
      "Layer: model.model.8.cv2.bn.bias, Size: torch.Size([256])\n",
      "Layer: model.model.8.m.0.cv1.conv.weight, Size: torch.Size([128, 128, 3, 3])\n",
      "Layer: model.model.8.m.0.cv1.bn.weight, Size: torch.Size([128])\n",
      "Layer: model.model.8.m.0.cv1.bn.bias, Size: torch.Size([128])\n",
      "Layer: model.model.8.m.0.cv2.conv.weight, Size: torch.Size([128, 128, 3, 3])\n",
      "Layer: model.model.8.m.0.cv2.bn.weight, Size: torch.Size([128])\n",
      "Layer: model.model.8.m.0.cv2.bn.bias, Size: torch.Size([128])\n",
      "Layer: model.model.9.cv1.conv.weight, Size: torch.Size([128, 256, 1, 1])\n",
      "Layer: model.model.9.cv1.bn.weight, Size: torch.Size([128])\n",
      "Layer: model.model.9.cv1.bn.bias, Size: torch.Size([128])\n",
      "Layer: model.model.9.cv2.conv.weight, Size: torch.Size([256, 512, 1, 1])\n",
      "Layer: model.model.9.cv2.bn.weight, Size: torch.Size([256])\n",
      "Layer: model.model.9.cv2.bn.bias, Size: torch.Size([256])\n",
      "Layer: model.model.12.cv1.conv.weight, Size: torch.Size([128, 384, 1, 1])\n",
      "Layer: model.model.12.cv1.bn.weight, Size: torch.Size([128])\n",
      "Layer: model.model.12.cv1.bn.bias, Size: torch.Size([128])\n",
      "Layer: model.model.12.cv2.conv.weight, Size: torch.Size([128, 192, 1, 1])\n",
      "Layer: model.model.12.cv2.bn.weight, Size: torch.Size([128])\n",
      "Layer: model.model.12.cv2.bn.bias, Size: torch.Size([128])\n",
      "Layer: model.model.12.m.0.cv1.conv.weight, Size: torch.Size([64, 64, 3, 3])\n",
      "Layer: model.model.12.m.0.cv1.bn.weight, Size: torch.Size([64])\n",
      "Layer: model.model.12.m.0.cv1.bn.bias, Size: torch.Size([64])\n",
      "Layer: model.model.12.m.0.cv2.conv.weight, Size: torch.Size([64, 64, 3, 3])\n",
      "Layer: model.model.12.m.0.cv2.bn.weight, Size: torch.Size([64])\n",
      "Layer: model.model.12.m.0.cv2.bn.bias, Size: torch.Size([64])\n",
      "Layer: model.model.15.cv1.conv.weight, Size: torch.Size([64, 192, 1, 1])\n",
      "Layer: model.model.15.cv1.bn.weight, Size: torch.Size([64])\n",
      "Layer: model.model.15.cv1.bn.bias, Size: torch.Size([64])\n",
      "Layer: model.model.15.cv2.conv.weight, Size: torch.Size([64, 96, 1, 1])\n",
      "Layer: model.model.15.cv2.bn.weight, Size: torch.Size([64])\n",
      "Layer: model.model.15.cv2.bn.bias, Size: torch.Size([64])\n",
      "Layer: model.model.15.m.0.cv1.conv.weight, Size: torch.Size([32, 32, 3, 3])\n",
      "Layer: model.model.15.m.0.cv1.bn.weight, Size: torch.Size([32])\n",
      "Layer: model.model.15.m.0.cv1.bn.bias, Size: torch.Size([32])\n",
      "Layer: model.model.15.m.0.cv2.conv.weight, Size: torch.Size([32, 32, 3, 3])\n",
      "Layer: model.model.15.m.0.cv2.bn.weight, Size: torch.Size([32])\n",
      "Layer: model.model.15.m.0.cv2.bn.bias, Size: torch.Size([32])\n",
      "Layer: model.model.16.conv.weight, Size: torch.Size([64, 64, 3, 3])\n",
      "Layer: model.model.16.bn.weight, Size: torch.Size([64])\n",
      "Layer: model.model.16.bn.bias, Size: torch.Size([64])\n",
      "Layer: model.model.18.cv1.conv.weight, Size: torch.Size([128, 192, 1, 1])\n",
      "Layer: model.model.18.cv1.bn.weight, Size: torch.Size([128])\n",
      "Layer: model.model.18.cv1.bn.bias, Size: torch.Size([128])\n",
      "Layer: model.model.18.cv2.conv.weight, Size: torch.Size([128, 192, 1, 1])\n",
      "Layer: model.model.18.cv2.bn.weight, Size: torch.Size([128])\n",
      "Layer: model.model.18.cv2.bn.bias, Size: torch.Size([128])\n",
      "Layer: model.model.18.m.0.cv1.conv.weight, Size: torch.Size([64, 64, 3, 3])\n",
      "Layer: model.model.18.m.0.cv1.bn.weight, Size: torch.Size([64])\n",
      "Layer: model.model.18.m.0.cv1.bn.bias, Size: torch.Size([64])\n",
      "Layer: model.model.18.m.0.cv2.conv.weight, Size: torch.Size([64, 64, 3, 3])\n",
      "Layer: model.model.18.m.0.cv2.bn.weight, Size: torch.Size([64])\n",
      "Layer: model.model.18.m.0.cv2.bn.bias, Size: torch.Size([64])\n",
      "Layer: model.model.19.conv.weight, Size: torch.Size([128, 128, 3, 3])\n",
      "Layer: model.model.19.bn.weight, Size: torch.Size([128])\n",
      "Layer: model.model.19.bn.bias, Size: torch.Size([128])\n",
      "Layer: model.model.21.cv1.conv.weight, Size: torch.Size([256, 384, 1, 1])\n",
      "Layer: model.model.21.cv1.bn.weight, Size: torch.Size([256])\n",
      "Layer: model.model.21.cv1.bn.bias, Size: torch.Size([256])\n",
      "Layer: model.model.21.cv2.conv.weight, Size: torch.Size([256, 384, 1, 1])\n",
      "Layer: model.model.21.cv2.bn.weight, Size: torch.Size([256])\n",
      "Layer: model.model.21.cv2.bn.bias, Size: torch.Size([256])\n",
      "Layer: model.model.21.m.0.cv1.conv.weight, Size: torch.Size([128, 128, 3, 3])\n",
      "Layer: model.model.21.m.0.cv1.bn.weight, Size: torch.Size([128])\n",
      "Layer: model.model.21.m.0.cv1.bn.bias, Size: torch.Size([128])\n",
      "Layer: model.model.21.m.0.cv2.conv.weight, Size: torch.Size([128, 128, 3, 3])\n",
      "Layer: model.model.21.m.0.cv2.bn.weight, Size: torch.Size([128])\n",
      "Layer: model.model.21.m.0.cv2.bn.bias, Size: torch.Size([128])\n",
      "Layer: model.model.22.cv2.0.0.conv.weight, Size: torch.Size([64, 64, 3, 3])\n",
      "Layer: model.model.22.cv2.0.0.bn.weight, Size: torch.Size([64])\n",
      "Layer: model.model.22.cv2.0.0.bn.bias, Size: torch.Size([64])\n",
      "Layer: model.model.22.cv2.0.1.conv.weight, Size: torch.Size([64, 64, 3, 3])\n",
      "Layer: model.model.22.cv2.0.1.bn.weight, Size: torch.Size([64])\n",
      "Layer: model.model.22.cv2.0.1.bn.bias, Size: torch.Size([64])\n",
      "Layer: model.model.22.cv2.0.2.weight, Size: torch.Size([64, 64, 1, 1])\n",
      "Layer: model.model.22.cv2.0.2.bias, Size: torch.Size([64])\n",
      "Layer: model.model.22.cv2.1.0.conv.weight, Size: torch.Size([64, 128, 3, 3])\n",
      "Layer: model.model.22.cv2.1.0.bn.weight, Size: torch.Size([64])\n",
      "Layer: model.model.22.cv2.1.0.bn.bias, Size: torch.Size([64])\n",
      "Layer: model.model.22.cv2.1.1.conv.weight, Size: torch.Size([64, 64, 3, 3])\n",
      "Layer: model.model.22.cv2.1.1.bn.weight, Size: torch.Size([64])\n",
      "Layer: model.model.22.cv2.1.1.bn.bias, Size: torch.Size([64])\n",
      "Layer: model.model.22.cv2.1.2.weight, Size: torch.Size([64, 64, 1, 1])\n",
      "Layer: model.model.22.cv2.1.2.bias, Size: torch.Size([64])\n",
      "Layer: model.model.22.cv2.2.0.conv.weight, Size: torch.Size([64, 256, 3, 3])\n",
      "Layer: model.model.22.cv2.2.0.bn.weight, Size: torch.Size([64])\n",
      "Layer: model.model.22.cv2.2.0.bn.bias, Size: torch.Size([64])\n",
      "Layer: model.model.22.cv2.2.1.conv.weight, Size: torch.Size([64, 64, 3, 3])\n",
      "Layer: model.model.22.cv2.2.1.bn.weight, Size: torch.Size([64])\n",
      "Layer: model.model.22.cv2.2.1.bn.bias, Size: torch.Size([64])\n",
      "Layer: model.model.22.cv2.2.2.weight, Size: torch.Size([64, 64, 1, 1])\n",
      "Layer: model.model.22.cv2.2.2.bias, Size: torch.Size([64])\n",
      "Layer: model.model.22.cv3.0.0.conv.weight, Size: torch.Size([80, 64, 3, 3])\n",
      "Layer: model.model.22.cv3.0.0.bn.weight, Size: torch.Size([80])\n",
      "Layer: model.model.22.cv3.0.0.bn.bias, Size: torch.Size([80])\n",
      "Layer: model.model.22.cv3.0.1.conv.weight, Size: torch.Size([80, 80, 3, 3])\n",
      "Layer: model.model.22.cv3.0.1.bn.weight, Size: torch.Size([80])\n",
      "Layer: model.model.22.cv3.0.1.bn.bias, Size: torch.Size([80])\n",
      "Layer: model.model.22.cv3.0.2.weight, Size: torch.Size([80, 80, 1, 1])\n",
      "Layer: model.model.22.cv3.0.2.bias, Size: torch.Size([80])\n",
      "Layer: model.model.22.cv3.1.0.conv.weight, Size: torch.Size([80, 128, 3, 3])\n",
      "Layer: model.model.22.cv3.1.0.bn.weight, Size: torch.Size([80])\n",
      "Layer: model.model.22.cv3.1.0.bn.bias, Size: torch.Size([80])\n",
      "Layer: model.model.22.cv3.1.1.conv.weight, Size: torch.Size([80, 80, 3, 3])\n",
      "Layer: model.model.22.cv3.1.1.bn.weight, Size: torch.Size([80])\n",
      "Layer: model.model.22.cv3.1.1.bn.bias, Size: torch.Size([80])\n",
      "Layer: model.model.22.cv3.1.2.weight, Size: torch.Size([80, 80, 1, 1])\n",
      "Layer: model.model.22.cv3.1.2.bias, Size: torch.Size([80])\n",
      "Layer: model.model.22.cv3.2.0.conv.weight, Size: torch.Size([80, 256, 3, 3])\n",
      "Layer: model.model.22.cv3.2.0.bn.weight, Size: torch.Size([80])\n",
      "Layer: model.model.22.cv3.2.0.bn.bias, Size: torch.Size([80])\n",
      "Layer: model.model.22.cv3.2.1.conv.weight, Size: torch.Size([80, 80, 3, 3])\n",
      "Layer: model.model.22.cv3.2.1.bn.weight, Size: torch.Size([80])\n",
      "Layer: model.model.22.cv3.2.1.bn.bias, Size: torch.Size([80])\n",
      "Layer: model.model.22.cv3.2.2.weight, Size: torch.Size([80, 80, 1, 1])\n",
      "Layer: model.model.22.cv3.2.2.bias, Size: torch.Size([80])\n",
      "Layer: model.model.22.dfl.conv.weight, Size: torch.Size([1, 16, 1, 1])\n",
      "Layer: model.model.22.proto.cv1.conv.weight, Size: torch.Size([64, 64, 3, 3])\n",
      "Layer: model.model.22.proto.cv1.bn.weight, Size: torch.Size([64])\n",
      "Layer: model.model.22.proto.cv1.bn.bias, Size: torch.Size([64])\n",
      "Layer: model.model.22.proto.upsample.weight, Size: torch.Size([64, 64, 2, 2])\n",
      "Layer: model.model.22.proto.upsample.bias, Size: torch.Size([64])\n",
      "Layer: model.model.22.proto.cv2.conv.weight, Size: torch.Size([64, 64, 3, 3])\n",
      "Layer: model.model.22.proto.cv2.bn.weight, Size: torch.Size([64])\n",
      "Layer: model.model.22.proto.cv2.bn.bias, Size: torch.Size([64])\n",
      "Layer: model.model.22.proto.cv3.conv.weight, Size: torch.Size([32, 64, 1, 1])\n",
      "Layer: model.model.22.proto.cv3.bn.weight, Size: torch.Size([32])\n",
      "Layer: model.model.22.proto.cv3.bn.bias, Size: torch.Size([32])\n",
      "Layer: model.model.22.cv4.0.0.conv.weight, Size: torch.Size([32, 64, 3, 3])\n",
      "Layer: model.model.22.cv4.0.0.bn.weight, Size: torch.Size([32])\n",
      "Layer: model.model.22.cv4.0.0.bn.bias, Size: torch.Size([32])\n",
      "Layer: model.model.22.cv4.0.1.conv.weight, Size: torch.Size([32, 32, 3, 3])\n",
      "Layer: model.model.22.cv4.0.1.bn.weight, Size: torch.Size([32])\n",
      "Layer: model.model.22.cv4.0.1.bn.bias, Size: torch.Size([32])\n",
      "Layer: model.model.22.cv4.0.2.weight, Size: torch.Size([32, 32, 1, 1])\n",
      "Layer: model.model.22.cv4.0.2.bias, Size: torch.Size([32])\n",
      "Layer: model.model.22.cv4.1.0.conv.weight, Size: torch.Size([32, 128, 3, 3])\n",
      "Layer: model.model.22.cv4.1.0.bn.weight, Size: torch.Size([32])\n",
      "Layer: model.model.22.cv4.1.0.bn.bias, Size: torch.Size([32])\n",
      "Layer: model.model.22.cv4.1.1.conv.weight, Size: torch.Size([32, 32, 3, 3])\n",
      "Layer: model.model.22.cv4.1.1.bn.weight, Size: torch.Size([32])\n",
      "Layer: model.model.22.cv4.1.1.bn.bias, Size: torch.Size([32])\n",
      "Layer: model.model.22.cv4.1.2.weight, Size: torch.Size([32, 32, 1, 1])\n",
      "Layer: model.model.22.cv4.1.2.bias, Size: torch.Size([32])\n",
      "Layer: model.model.22.cv4.2.0.conv.weight, Size: torch.Size([32, 256, 3, 3])\n",
      "Layer: model.model.22.cv4.2.0.bn.weight, Size: torch.Size([32])\n",
      "Layer: model.model.22.cv4.2.0.bn.bias, Size: torch.Size([32])\n",
      "Layer: model.model.22.cv4.2.1.conv.weight, Size: torch.Size([32, 32, 3, 3])\n",
      "Layer: model.model.22.cv4.2.1.bn.weight, Size: torch.Size([32])\n",
      "Layer: model.model.22.cv4.2.1.bn.bias, Size: torch.Size([32])\n",
      "Layer: model.model.22.cv4.2.2.weight, Size: torch.Size([32, 32, 1, 1])\n",
      "Layer: model.model.22.cv4.2.2.bias, Size: torch.Size([32])\n",
      "New https://pypi.org/project/ultralytics/8.1.9 available 😃 Update with 'pip install -U ultralytics'\n",
      "Ultralytics YOLOv8.0.227 🚀 Python-3.10.13 torch-2.1.2 CUDA:0 (NVIDIA GeForce RTX 4070, 12282MiB)\n",
      "\u001b[34m\u001b[1mengine\\trainer: \u001b[0mtask=segment, mode=train, model=yolov8n-seg.pt, data=yoloseg.yaml, epochs=300, patience=10, batch=4, imgsz=1024, save=True, save_period=-1, cache=False, device=[0], workers=8, project=None, name=train3, exist_ok=False, pretrained=True, optimizer=auto, verbose=True, seed=0, deterministic=True, single_cls=False, rect=False, cos_lr=False, close_mosaic=10, resume=False, amp=True, fraction=1.0, profile=False, freeze=None, overlap_mask=True, mask_ratio=4, dropout=0.0, val=True, split=val, save_json=False, save_hybrid=False, conf=None, iou=0.7, max_det=300, half=False, dnn=False, plots=True, source=None, vid_stride=1, stream_buffer=False, visualize=False, augment=False, agnostic_nms=False, classes=None, retina_masks=False, show=False, save_frames=False, save_txt=False, save_conf=False, save_crop=False, show_labels=True, show_conf=True, show_boxes=True, line_width=None, format=torchscript, keras=False, optimize=False, int8=False, dynamic=False, simplify=False, opset=None, workspace=4, nms=False, lr0=0.01, lrf=0.01, momentum=0.937, weight_decay=0.0005, warmup_epochs=3.0, warmup_momentum=0.8, warmup_bias_lr=0.1, box=7.5, cls=0.5, dfl=1.5, pose=12.0, kobj=1.0, label_smoothing=0.0, nbs=64, hsv_h=0.015, hsv_s=0.7, hsv_v=0.4, degrees=0.0, translate=0.1, scale=0.5, shear=0.0, perspective=0.0, flipud=0.0, fliplr=0.5, mosaic=1.0, mixup=0.0, copy_paste=0.0, cfg=None, tracker=botsort.yaml, save_dir=runs\\segment\\train3\n",
      "Overriding model.yaml nc=80 with nc=1\n",
      "\n",
      "                   from  n    params  module                                       arguments                     \n",
      "  0                  -1  1       464  ultralytics.nn.modules.conv.Conv             [3, 16, 3, 2]                 \n",
      "  1                  -1  1      4672  ultralytics.nn.modules.conv.Conv             [16, 32, 3, 2]                \n",
      "  2                  -1  1      7360  ultralytics.nn.modules.block.C2f             [32, 32, 1, True]             \n",
      "  3                  -1  1     18560  ultralytics.nn.modules.conv.Conv             [32, 64, 3, 2]                \n",
      "  4                  -1  2     49664  ultralytics.nn.modules.block.C2f             [64, 64, 2, True]             \n",
      "  5                  -1  1     73984  ultralytics.nn.modules.conv.Conv             [64, 128, 3, 2]               \n",
      "  6                  -1  2    197632  ultralytics.nn.modules.block.C2f             [128, 128, 2, True]           \n",
      "  7                  -1  1    295424  ultralytics.nn.modules.conv.Conv             [128, 256, 3, 2]              \n",
      "  8                  -1  1    460288  ultralytics.nn.modules.block.C2f             [256, 256, 1, True]           \n",
      "  9                  -1  1    164608  ultralytics.nn.modules.block.SPPF            [256, 256, 5]                 \n",
      " 10                  -1  1         0  torch.nn.modules.upsampling.Upsample         [None, 2, 'nearest']          \n",
      " 11             [-1, 6]  1         0  ultralytics.nn.modules.conv.Concat           [1]                           \n",
      " 12                  -1  1    148224  ultralytics.nn.modules.block.C2f             [384, 128, 1]                 \n",
      " 13                  -1  1         0  torch.nn.modules.upsampling.Upsample         [None, 2, 'nearest']          \n",
      " 14             [-1, 4]  1         0  ultralytics.nn.modules.conv.Concat           [1]                           \n",
      " 15                  -1  1     37248  ultralytics.nn.modules.block.C2f             [192, 64, 1]                  \n",
      " 16                  -1  1     36992  ultralytics.nn.modules.conv.Conv             [64, 64, 3, 2]                \n",
      " 17            [-1, 12]  1         0  ultralytics.nn.modules.conv.Concat           [1]                           \n",
      " 18                  -1  1    123648  ultralytics.nn.modules.block.C2f             [192, 128, 1]                 \n",
      " 19                  -1  1    147712  ultralytics.nn.modules.conv.Conv             [128, 128, 3, 2]              \n",
      " 20             [-1, 9]  1         0  ultralytics.nn.modules.conv.Concat           [1]                           \n",
      " 21                  -1  1    493056  ultralytics.nn.modules.block.C2f             [384, 256, 1]                 \n",
      " 22        [15, 18, 21]  1   1004275  ultralytics.nn.modules.head.Segment          [1, 32, 64, [64, 128, 256]]   \n",
      "YOLOv8n-seg summary: 261 layers, 3263811 parameters, 3263795 gradients, 12.1 GFLOPs\n",
      "\n",
      "Transferred 381/417 items from pretrained weights\n",
      "\u001b[34m\u001b[1mTensorBoard: \u001b[0mStart with 'tensorboard --logdir runs\\segment\\train3', view at http://localhost:6006/\n",
      "Freezing layer 'model.22.dfl.conv.weight'\n",
      "\u001b[34m\u001b[1mAMP: \u001b[0mrunning Automatic Mixed Precision (AMP) checks with YOLOv8n...\n",
      "\u001b[34m\u001b[1mAMP: \u001b[0mchecks passed ✅\n"
     ]
    },
    {
     "name": "stderr",
     "output_type": "stream",
     "text": [
      "\u001b[34m\u001b[1mtrain: \u001b[0mScanning C:\\Users\\User\\Desktop\\C_VSCode\\CVAT\\datasets\\labels\\train.cache... 47 images, 0 backgrounds, 0 corrupt: 100%|██████████| 47/47 [00:00<?, ?it/s]\n",
      "\u001b[34m\u001b[1mval: \u001b[0mScanning C:\\Users\\User\\Desktop\\C_VSCode\\CVAT\\datasets\\labels\\val.cache... 16 images, 0 backgrounds, 0 corrupt: 100%|██████████| 16/16 [00:00<?, ?it/s]\n"
     ]
    },
    {
     "name": "stdout",
     "output_type": "stream",
     "text": [
      "Plotting labels to runs\\segment\\train3\\labels.jpg... \n",
      "\u001b[34m\u001b[1moptimizer:\u001b[0m 'optimizer=auto' found, ignoring 'lr0=0.01' and 'momentum=0.937' and determining best 'optimizer', 'lr0' and 'momentum' automatically... \n",
      "\u001b[34m\u001b[1moptimizer:\u001b[0m AdamW(lr=0.002, momentum=0.9) with parameter groups 66 weight(decay=0.0), 77 weight(decay=0.0005), 76 bias(decay=0.0)\n",
      "Image sizes 1024 train, 1024 val\n",
      "Using 4 dataloader workers\n",
      "Logging results to \u001b[1mruns\\segment\\train3\u001b[0m\n",
      "Starting training for 300 epochs...\n",
      "\n",
      "      Epoch    GPU_mem   box_loss   seg_loss   cls_loss   dfl_loss  Instances       Size\n"
     ]
    },
    {
     "name": "stderr",
     "output_type": "stream",
     "text": [
      "      1/300      1.81G        2.2      4.007       7.44      1.951          2       1024: 100%|██████████| 12/12 [00:01<00:00,  9.55it/s]\n",
      "                 Class     Images  Instances      Box(P          R      mAP50  mAP50-95)     Mask(P          R      mAP50  mAP50-95): 100%|██████████| 2/2 [00:00<00:00,  7.57it/s]"
     ]
    },
    {
     "name": "stdout",
     "output_type": "stream",
     "text": [
      "                   all         16         16   0.000208     0.0625   0.000112   3.37e-05   0.000208     0.0625   0.000113   1.13e-05\n"
     ]
    },
    {
     "name": "stderr",
     "output_type": "stream",
     "text": [
      "\n"
     ]
    },
    {
     "name": "stdout",
     "output_type": "stream",
     "text": [
      "\n",
      "      Epoch    GPU_mem   box_loss   seg_loss   cls_loss   dfl_loss  Instances       Size\n"
     ]
    },
    {
     "name": "stderr",
     "output_type": "stream",
     "text": [
      "      2/300      1.79G      2.024      3.731      7.385      1.821          6       1024: 100%|██████████| 12/12 [00:00<00:00, 17.30it/s]\n",
      "                 Class     Images  Instances      Box(P          R      mAP50  mAP50-95)     Mask(P          R      mAP50  mAP50-95): 100%|██████████| 2/2 [00:00<00:00, 13.38it/s]"
     ]
    },
    {
     "name": "stdout",
     "output_type": "stream",
     "text": [
      "                   all         16         16    0.00208      0.625    0.00346   0.000899    0.00292      0.875      0.005    0.00151\n"
     ]
    },
    {
     "name": "stderr",
     "output_type": "stream",
     "text": [
      "\n"
     ]
    },
    {
     "name": "stdout",
     "output_type": "stream",
     "text": [
      "\n",
      "      Epoch    GPU_mem   box_loss   seg_loss   cls_loss   dfl_loss  Instances       Size\n"
     ]
    },
    {
     "name": "stderr",
     "output_type": "stream",
     "text": [
      "      3/300      1.82G      1.417      1.996      5.306       1.33          9       1024: 100%|██████████| 12/12 [00:00<00:00, 17.57it/s]\n",
      "                 Class     Images  Instances      Box(P          R      mAP50  mAP50-95)     Mask(P          R      mAP50  mAP50-95): 100%|██████████| 2/2 [00:00<00:00, 13.12it/s]"
     ]
    },
    {
     "name": "stdout",
     "output_type": "stream",
     "text": [
      "                   all         16         16    0.00333          1      0.302      0.154    0.00333          1      0.276      0.115\n"
     ]
    },
    {
     "name": "stderr",
     "output_type": "stream",
     "text": [
      "\n"
     ]
    },
    {
     "name": "stdout",
     "output_type": "stream",
     "text": [
      "\n",
      "      Epoch    GPU_mem   box_loss   seg_loss   cls_loss   dfl_loss  Instances       Size\n"
     ]
    },
    {
     "name": "stderr",
     "output_type": "stream",
     "text": [
      "      4/300      1.82G      1.258      1.554      4.463      1.175          7       1024: 100%|██████████| 12/12 [00:00<00:00, 17.81it/s]\n",
      "                 Class     Images  Instances      Box(P          R      mAP50  mAP50-95)     Mask(P          R      mAP50  mAP50-95): 100%|██████████| 2/2 [00:00<00:00, 13.02it/s]"
     ]
    },
    {
     "name": "stdout",
     "output_type": "stream",
     "text": [
      "                   all         16         16    0.00333          1     0.0771     0.0294    0.00357      0.875      0.314      0.146\n"
     ]
    },
    {
     "name": "stderr",
     "output_type": "stream",
     "text": [
      "\n"
     ]
    },
    {
     "name": "stdout",
     "output_type": "stream",
     "text": [
      "\n",
      "      Epoch    GPU_mem   box_loss   seg_loss   cls_loss   dfl_loss  Instances       Size\n"
     ]
    },
    {
     "name": "stderr",
     "output_type": "stream",
     "text": [
      "      5/300      1.81G        1.1      1.628      4.765      1.069          7       1024: 100%|██████████| 12/12 [00:00<00:00, 17.65it/s]\n",
      "                 Class     Images  Instances      Box(P          R      mAP50  mAP50-95)     Mask(P          R      mAP50  mAP50-95): 100%|██████████| 2/2 [00:00<00:00, 13.38it/s]"
     ]
    },
    {
     "name": "stdout",
     "output_type": "stream",
     "text": [
      "                   all         16         16    0.00187      0.562     0.0863     0.0256    0.00208      0.625     0.0818     0.0106\n"
     ]
    },
    {
     "name": "stderr",
     "output_type": "stream",
     "text": [
      "\n"
     ]
    },
    {
     "name": "stdout",
     "output_type": "stream",
     "text": [
      "\n",
      "      Epoch    GPU_mem   box_loss   seg_loss   cls_loss   dfl_loss  Instances       Size\n"
     ]
    },
    {
     "name": "stderr",
     "output_type": "stream",
     "text": [
      "      6/300      1.82G      1.582      3.117      5.325      1.398          7       1024: 100%|██████████| 12/12 [00:00<00:00, 17.68it/s]\n",
      "                 Class     Images  Instances      Box(P          R      mAP50  mAP50-95)     Mask(P          R      mAP50  mAP50-95): 100%|██████████| 2/2 [00:00<00:00, 13.03it/s]"
     ]
    },
    {
     "name": "stdout",
     "output_type": "stream",
     "text": [
      "                   all         16         16      0.283      0.312      0.285      0.142      0.348      0.438      0.379      0.227\n"
     ]
    },
    {
     "name": "stderr",
     "output_type": "stream",
     "text": [
      "\n"
     ]
    },
    {
     "name": "stdout",
     "output_type": "stream",
     "text": [
      "\n",
      "      Epoch    GPU_mem   box_loss   seg_loss   cls_loss   dfl_loss  Instances       Size\n"
     ]
    },
    {
     "name": "stderr",
     "output_type": "stream",
     "text": [
      "      7/300      1.81G      1.423      2.198      4.397      1.241          6       1024: 100%|██████████| 12/12 [00:00<00:00, 18.18it/s]\n",
      "                 Class     Images  Instances      Box(P          R      mAP50  mAP50-95)     Mask(P          R      mAP50  mAP50-95): 100%|██████████| 2/2 [00:00<00:00, 13.12it/s]"
     ]
    },
    {
     "name": "stdout",
     "output_type": "stream",
     "text": [
      "                   all         16         16      0.283      0.312      0.285      0.142      0.348      0.438      0.379      0.227\n"
     ]
    },
    {
     "name": "stderr",
     "output_type": "stream",
     "text": [
      "\n"
     ]
    },
    {
     "name": "stdout",
     "output_type": "stream",
     "text": [
      "\n",
      "      Epoch    GPU_mem   box_loss   seg_loss   cls_loss   dfl_loss  Instances       Size\n"
     ]
    },
    {
     "name": "stderr",
     "output_type": "stream",
     "text": [
      "      8/300      1.81G      1.486      1.707      4.617      1.345          4       1024: 100%|██████████| 12/12 [00:00<00:00, 17.93it/s]\n",
      "                 Class     Images  Instances      Box(P          R      mAP50  mAP50-95)     Mask(P          R      mAP50  mAP50-95): 100%|██████████| 2/2 [00:00<00:00, 13.03it/s]"
     ]
    },
    {
     "name": "stdout",
     "output_type": "stream",
     "text": [
      "                   all         16         16     0.0727      0.375     0.0898     0.0631     0.0727      0.375     0.0932     0.0712\n"
     ]
    },
    {
     "name": "stderr",
     "output_type": "stream",
     "text": [
      "\n"
     ]
    },
    {
     "name": "stdout",
     "output_type": "stream",
     "text": [
      "\n",
      "      Epoch    GPU_mem   box_loss   seg_loss   cls_loss   dfl_loss  Instances       Size\n"
     ]
    },
    {
     "name": "stderr",
     "output_type": "stream",
     "text": [
      "      9/300      1.94G        1.5      1.602      4.921      1.428          6       1024: 100%|██████████| 12/12 [00:00<00:00, 17.97it/s]\n",
      "                 Class     Images  Instances      Box(P          R      mAP50  mAP50-95)     Mask(P          R      mAP50  mAP50-95): 100%|██████████| 2/2 [00:00<00:00, 13.02it/s]"
     ]
    },
    {
     "name": "stdout",
     "output_type": "stream",
     "text": [
      "                   all         16         16      0.274      0.688      0.433      0.239      0.274      0.688      0.433      0.309\n"
     ]
    },
    {
     "name": "stderr",
     "output_type": "stream",
     "text": [
      "\n"
     ]
    },
    {
     "name": "stdout",
     "output_type": "stream",
     "text": [
      "\n",
      "      Epoch    GPU_mem   box_loss   seg_loss   cls_loss   dfl_loss  Instances       Size\n"
     ]
    },
    {
     "name": "stderr",
     "output_type": "stream",
     "text": [
      "     10/300      1.82G      1.417      1.737      3.931      1.218          3       1024: 100%|██████████| 12/12 [00:00<00:00, 17.83it/s]\n",
      "                 Class     Images  Instances      Box(P          R      mAP50  mAP50-95)     Mask(P          R      mAP50  mAP50-95): 100%|██████████| 2/2 [00:00<00:00, 12.86it/s]"
     ]
    },
    {
     "name": "stdout",
     "output_type": "stream",
     "text": [
      "                   all         16         16      0.279      0.435      0.201     0.0697      0.279      0.435      0.199     0.0992\n"
     ]
    },
    {
     "name": "stderr",
     "output_type": "stream",
     "text": [
      "\n"
     ]
    },
    {
     "name": "stdout",
     "output_type": "stream",
     "text": [
      "\n",
      "      Epoch    GPU_mem   box_loss   seg_loss   cls_loss   dfl_loss  Instances       Size\n"
     ]
    },
    {
     "name": "stderr",
     "output_type": "stream",
     "text": [
      "     11/300      1.81G      1.271      1.243      3.982      1.157          3       1024: 100%|██████████| 12/12 [00:00<00:00, 18.02it/s]\n",
      "                 Class     Images  Instances      Box(P          R      mAP50  mAP50-95)     Mask(P          R      mAP50  mAP50-95): 100%|██████████| 2/2 [00:00<00:00, 13.03it/s]"
     ]
    },
    {
     "name": "stdout",
     "output_type": "stream",
     "text": [
      "                   all         16         16      0.279      0.435      0.201     0.0697      0.279      0.435      0.199     0.0992\n"
     ]
    },
    {
     "name": "stderr",
     "output_type": "stream",
     "text": [
      "\n"
     ]
    },
    {
     "name": "stdout",
     "output_type": "stream",
     "text": [
      "\n",
      "      Epoch    GPU_mem   box_loss   seg_loss   cls_loss   dfl_loss  Instances       Size\n"
     ]
    },
    {
     "name": "stderr",
     "output_type": "stream",
     "text": [
      "     12/300      1.94G      1.344       1.43      3.901      1.197          4       1024: 100%|██████████| 12/12 [00:00<00:00, 17.83it/s]\n",
      "                 Class     Images  Instances      Box(P          R      mAP50  mAP50-95)     Mask(P          R      mAP50  mAP50-95): 100%|██████████| 2/2 [00:00<00:00, 12.86it/s]"
     ]
    },
    {
     "name": "stdout",
     "output_type": "stream",
     "text": [
      "                   all         16         16      0.406       0.25      0.345      0.151      0.282        0.5       0.39      0.191\n"
     ]
    },
    {
     "name": "stderr",
     "output_type": "stream",
     "text": [
      "\n"
     ]
    },
    {
     "name": "stdout",
     "output_type": "stream",
     "text": [
      "\n",
      "      Epoch    GPU_mem   box_loss   seg_loss   cls_loss   dfl_loss  Instances       Size\n"
     ]
    },
    {
     "name": "stderr",
     "output_type": "stream",
     "text": [
      "     13/300      1.94G      1.417      1.396      4.172      1.217          4       1024: 100%|██████████| 12/12 [00:00<00:00, 18.08it/s]\n",
      "                 Class     Images  Instances      Box(P          R      mAP50  mAP50-95)     Mask(P          R      mAP50  mAP50-95): 100%|██████████| 2/2 [00:00<00:00, 12.85it/s]"
     ]
    },
    {
     "name": "stdout",
     "output_type": "stream",
     "text": [
      "                   all         16         16      0.522      0.478      0.433      0.184      0.395      0.562      0.474      0.287\n"
     ]
    },
    {
     "name": "stderr",
     "output_type": "stream",
     "text": [
      "\n"
     ]
    },
    {
     "name": "stdout",
     "output_type": "stream",
     "text": [
      "\n",
      "      Epoch    GPU_mem   box_loss   seg_loss   cls_loss   dfl_loss  Instances       Size\n"
     ]
    },
    {
     "name": "stderr",
     "output_type": "stream",
     "text": [
      "     14/300      1.81G      1.382      1.314      3.886       1.21          2       1024: 100%|██████████| 12/12 [00:00<00:00, 17.94it/s]\n",
      "                 Class     Images  Instances      Box(P          R      mAP50  mAP50-95)     Mask(P          R      mAP50  mAP50-95): 100%|██████████| 2/2 [00:00<00:00, 12.70it/s]"
     ]
    },
    {
     "name": "stdout",
     "output_type": "stream",
     "text": [
      "                   all         16         16      0.157      0.812      0.402      0.156      0.157      0.812       0.43      0.223\n"
     ]
    },
    {
     "name": "stderr",
     "output_type": "stream",
     "text": [
      "\n"
     ]
    },
    {
     "name": "stdout",
     "output_type": "stream",
     "text": [
      "\n",
      "      Epoch    GPU_mem   box_loss   seg_loss   cls_loss   dfl_loss  Instances       Size\n"
     ]
    },
    {
     "name": "stderr",
     "output_type": "stream",
     "text": [
      "     15/300      1.94G      1.193      1.063       4.58      1.171          5       1024: 100%|██████████| 12/12 [00:00<00:00, 18.05it/s]\n",
      "                 Class     Images  Instances      Box(P          R      mAP50  mAP50-95)     Mask(P          R      mAP50  mAP50-95): 100%|██████████| 2/2 [00:00<00:00, 12.78it/s]"
     ]
    },
    {
     "name": "stdout",
     "output_type": "stream",
     "text": [
      "                   all         16         16      0.157      0.812      0.402      0.156      0.157      0.812       0.43      0.223\n"
     ]
    },
    {
     "name": "stderr",
     "output_type": "stream",
     "text": [
      "\n"
     ]
    },
    {
     "name": "stdout",
     "output_type": "stream",
     "text": [
      "\n",
      "      Epoch    GPU_mem   box_loss   seg_loss   cls_loss   dfl_loss  Instances       Size\n"
     ]
    },
    {
     "name": "stderr",
     "output_type": "stream",
     "text": [
      "     16/300      1.94G      1.312      1.236        3.9       1.19          4       1024: 100%|██████████| 12/12 [00:00<00:00, 17.99it/s]\n",
      "                 Class     Images  Instances      Box(P          R      mAP50  mAP50-95)     Mask(P          R      mAP50  mAP50-95): 100%|██████████| 2/2 [00:00<00:00, 12.78it/s]"
     ]
    },
    {
     "name": "stdout",
     "output_type": "stream",
     "text": [
      "                   all         16         16      0.269      0.562      0.402      0.193      0.269      0.562      0.439      0.272\n"
     ]
    },
    {
     "name": "stderr",
     "output_type": "stream",
     "text": [
      "\n"
     ]
    },
    {
     "name": "stdout",
     "output_type": "stream",
     "text": [
      "\n",
      "      Epoch    GPU_mem   box_loss   seg_loss   cls_loss   dfl_loss  Instances       Size\n"
     ]
    },
    {
     "name": "stderr",
     "output_type": "stream",
     "text": [
      "     17/300      1.81G      1.259      1.165      3.295      1.156          8       1024: 100%|██████████| 12/12 [00:00<00:00, 17.86it/s]\n",
      "                 Class     Images  Instances      Box(P          R      mAP50  mAP50-95)     Mask(P          R      mAP50  mAP50-95): 100%|██████████| 2/2 [00:00<00:00, 13.11it/s]"
     ]
    },
    {
     "name": "stdout",
     "output_type": "stream",
     "text": [
      "                   all         16         16      0.237      0.603      0.239     0.0817      0.237      0.603       0.33      0.168\n"
     ]
    },
    {
     "name": "stderr",
     "output_type": "stream",
     "text": [
      "\n"
     ]
    },
    {
     "name": "stdout",
     "output_type": "stream",
     "text": [
      "\n",
      "      Epoch    GPU_mem   box_loss   seg_loss   cls_loss   dfl_loss  Instances       Size\n"
     ]
    },
    {
     "name": "stderr",
     "output_type": "stream",
     "text": [
      "     18/300      1.81G      1.224      1.226      4.202      1.181          7       1024: 100%|██████████| 12/12 [00:00<00:00, 17.73it/s]\n",
      "                 Class     Images  Instances      Box(P          R      mAP50  mAP50-95)     Mask(P          R      mAP50  mAP50-95): 100%|██████████| 2/2 [00:00<00:00, 13.12it/s]"
     ]
    },
    {
     "name": "stdout",
     "output_type": "stream",
     "text": [
      "                   all         16         16      0.649      0.562      0.564      0.319      0.646      0.625      0.685      0.453\n"
     ]
    },
    {
     "name": "stderr",
     "output_type": "stream",
     "text": [
      "\n"
     ]
    },
    {
     "name": "stdout",
     "output_type": "stream",
     "text": [
      "\n",
      "      Epoch    GPU_mem   box_loss   seg_loss   cls_loss   dfl_loss  Instances       Size\n"
     ]
    },
    {
     "name": "stderr",
     "output_type": "stream",
     "text": [
      "     19/300      1.95G       1.29      1.312      3.237      1.193          4       1024: 100%|██████████| 12/12 [00:00<00:00, 18.00it/s]\n",
      "                 Class     Images  Instances      Box(P          R      mAP50  mAP50-95)     Mask(P          R      mAP50  mAP50-95): 100%|██████████| 2/2 [00:00<00:00, 12.78it/s]"
     ]
    },
    {
     "name": "stdout",
     "output_type": "stream",
     "text": [
      "                   all         16         16      0.649      0.562      0.564      0.319      0.646      0.625      0.685      0.453\n"
     ]
    },
    {
     "name": "stderr",
     "output_type": "stream",
     "text": [
      "\n"
     ]
    },
    {
     "name": "stdout",
     "output_type": "stream",
     "text": [
      "\n",
      "      Epoch    GPU_mem   box_loss   seg_loss   cls_loss   dfl_loss  Instances       Size\n"
     ]
    },
    {
     "name": "stderr",
     "output_type": "stream",
     "text": [
      "     20/300      1.95G      1.204      1.166      3.641      1.158          3       1024: 100%|██████████| 12/12 [00:00<00:00, 18.02it/s]\n",
      "                 Class     Images  Instances      Box(P          R      mAP50  mAP50-95)     Mask(P          R      mAP50  mAP50-95): 100%|██████████| 2/2 [00:00<00:00, 13.12it/s]"
     ]
    },
    {
     "name": "stdout",
     "output_type": "stream",
     "text": [
      "                   all         16         16      0.481      0.562      0.546      0.279      0.536        0.5      0.617      0.416\n"
     ]
    },
    {
     "name": "stderr",
     "output_type": "stream",
     "text": [
      "\n"
     ]
    },
    {
     "name": "stdout",
     "output_type": "stream",
     "text": [
      "\n",
      "      Epoch    GPU_mem   box_loss   seg_loss   cls_loss   dfl_loss  Instances       Size\n"
     ]
    },
    {
     "name": "stderr",
     "output_type": "stream",
     "text": [
      "     21/300      1.81G      1.329      1.028      3.587      1.215          6       1024: 100%|██████████| 12/12 [00:00<00:00, 17.89it/s]\n",
      "                 Class     Images  Instances      Box(P          R      mAP50  mAP50-95)     Mask(P          R      mAP50  mAP50-95): 100%|██████████| 2/2 [00:00<00:00, 13.03it/s]"
     ]
    },
    {
     "name": "stdout",
     "output_type": "stream",
     "text": [
      "                   all         16         16      0.868      0.411      0.608      0.273      0.868      0.411      0.634      0.448\n"
     ]
    },
    {
     "name": "stderr",
     "output_type": "stream",
     "text": [
      "\n"
     ]
    },
    {
     "name": "stdout",
     "output_type": "stream",
     "text": [
      "\n",
      "      Epoch    GPU_mem   box_loss   seg_loss   cls_loss   dfl_loss  Instances       Size\n"
     ]
    },
    {
     "name": "stderr",
     "output_type": "stream",
     "text": [
      "     22/300      1.95G      1.326      1.128      3.083       1.18          4       1024: 100%|██████████| 12/12 [00:00<00:00, 17.78it/s]\n",
      "                 Class     Images  Instances      Box(P          R      mAP50  mAP50-95)     Mask(P          R      mAP50  mAP50-95): 100%|██████████| 2/2 [00:00<00:00, 13.37it/s]"
     ]
    },
    {
     "name": "stdout",
     "output_type": "stream",
     "text": [
      "                   all         16         16      0.211      0.375      0.213     0.0892      0.211      0.375      0.213      0.135\n"
     ]
    },
    {
     "name": "stderr",
     "output_type": "stream",
     "text": [
      "\n"
     ]
    },
    {
     "name": "stdout",
     "output_type": "stream",
     "text": [
      "\n",
      "      Epoch    GPU_mem   box_loss   seg_loss   cls_loss   dfl_loss  Instances       Size\n"
     ]
    },
    {
     "name": "stderr",
     "output_type": "stream",
     "text": [
      "     23/300      1.81G      1.147       0.97      2.652      1.084          8       1024: 100%|██████████| 12/12 [00:00<00:00, 18.08it/s]\n",
      "                 Class     Images  Instances      Box(P          R      mAP50  mAP50-95)     Mask(P          R      mAP50  mAP50-95): 100%|██████████| 2/2 [00:00<00:00, 13.56it/s]"
     ]
    },
    {
     "name": "stdout",
     "output_type": "stream",
     "text": [
      "                   all         16         16      0.211      0.375      0.213     0.0892      0.211      0.375      0.213      0.135\n"
     ]
    },
    {
     "name": "stderr",
     "output_type": "stream",
     "text": [
      "\n"
     ]
    },
    {
     "name": "stdout",
     "output_type": "stream",
     "text": [
      "\n",
      "      Epoch    GPU_mem   box_loss   seg_loss   cls_loss   dfl_loss  Instances       Size\n"
     ]
    },
    {
     "name": "stderr",
     "output_type": "stream",
     "text": [
      "     24/300      1.81G      1.233      1.134      2.975      1.156          5       1024: 100%|██████████| 12/12 [00:00<00:00, 17.83it/s]\n",
      "                 Class     Images  Instances      Box(P          R      mAP50  mAP50-95)     Mask(P          R      mAP50  mAP50-95): 100%|██████████| 2/2 [00:00<00:00, 13.38it/s]"
     ]
    },
    {
     "name": "stdout",
     "output_type": "stream",
     "text": [
      "                   all         16         16     0.0664      0.188     0.0559     0.0232      0.082      0.188      0.107      0.046\n"
     ]
    },
    {
     "name": "stderr",
     "output_type": "stream",
     "text": [
      "\n"
     ]
    },
    {
     "name": "stdout",
     "output_type": "stream",
     "text": [
      "\n",
      "      Epoch    GPU_mem   box_loss   seg_loss   cls_loss   dfl_loss  Instances       Size\n"
     ]
    },
    {
     "name": "stderr",
     "output_type": "stream",
     "text": [
      "     25/300      1.95G      1.369      1.329      3.827      1.331          3       1024: 100%|██████████| 12/12 [00:00<00:00, 18.02it/s]\n",
      "                 Class     Images  Instances      Box(P          R      mAP50  mAP50-95)     Mask(P          R      mAP50  mAP50-95): 100%|██████████| 2/2 [00:00<00:00, 12.95it/s]"
     ]
    },
    {
     "name": "stdout",
     "output_type": "stream",
     "text": [
      "                   all         16         16       0.14      0.188      0.161      0.067      0.142      0.438       0.18     0.0844\n"
     ]
    },
    {
     "name": "stderr",
     "output_type": "stream",
     "text": [
      "\n"
     ]
    },
    {
     "name": "stdout",
     "output_type": "stream",
     "text": [
      "\n",
      "      Epoch    GPU_mem   box_loss   seg_loss   cls_loss   dfl_loss  Instances       Size\n"
     ]
    },
    {
     "name": "stderr",
     "output_type": "stream",
     "text": [
      "     26/300      1.81G      1.256      1.036      3.208       1.17          3       1024: 100%|██████████| 12/12 [00:00<00:00, 18.02it/s]\n",
      "                 Class     Images  Instances      Box(P          R      mAP50  mAP50-95)     Mask(P          R      mAP50  mAP50-95): 100%|██████████| 2/2 [00:00<00:00, 13.37it/s]"
     ]
    },
    {
     "name": "stdout",
     "output_type": "stream",
     "text": [
      "                   all         16         16      0.327       0.75      0.612      0.345      0.354      0.812      0.661      0.393\n"
     ]
    },
    {
     "name": "stderr",
     "output_type": "stream",
     "text": [
      "\n"
     ]
    },
    {
     "name": "stdout",
     "output_type": "stream",
     "text": [
      "\n",
      "      Epoch    GPU_mem   box_loss   seg_loss   cls_loss   dfl_loss  Instances       Size\n"
     ]
    },
    {
     "name": "stderr",
     "output_type": "stream",
     "text": [
      "     27/300      1.81G      1.144      0.949      2.644      1.092          8       1024: 100%|██████████| 12/12 [00:00<00:00, 18.10it/s]\n",
      "                 Class     Images  Instances      Box(P          R      mAP50  mAP50-95)     Mask(P          R      mAP50  mAP50-95): 100%|██████████| 2/2 [00:00<00:00, 13.29it/s]"
     ]
    },
    {
     "name": "stdout",
     "output_type": "stream",
     "text": [
      "                   all         16         16      0.327       0.75      0.612      0.345      0.354      0.812      0.661      0.393\n"
     ]
    },
    {
     "name": "stderr",
     "output_type": "stream",
     "text": [
      "\n"
     ]
    },
    {
     "name": "stdout",
     "output_type": "stream",
     "text": [
      "\n",
      "      Epoch    GPU_mem   box_loss   seg_loss   cls_loss   dfl_loss  Instances       Size\n"
     ]
    },
    {
     "name": "stderr",
     "output_type": "stream",
     "text": [
      "     28/300      1.95G      1.274      1.218      3.654      1.174          3       1024: 100%|██████████| 12/12 [00:00<00:00, 18.05it/s]\n",
      "                 Class     Images  Instances      Box(P          R      mAP50  mAP50-95)     Mask(P          R      mAP50  mAP50-95): 100%|██████████| 2/2 [00:00<00:00, 13.19it/s]"
     ]
    },
    {
     "name": "stdout",
     "output_type": "stream",
     "text": [
      "                   all         16         16          1      0.312      0.697      0.468          1      0.312      0.731      0.607\n"
     ]
    },
    {
     "name": "stderr",
     "output_type": "stream",
     "text": [
      "\n"
     ]
    },
    {
     "name": "stdout",
     "output_type": "stream",
     "text": [
      "\n",
      "      Epoch    GPU_mem   box_loss   seg_loss   cls_loss   dfl_loss  Instances       Size\n"
     ]
    },
    {
     "name": "stderr",
     "output_type": "stream",
     "text": [
      "     29/300      1.81G      1.245      1.035      2.856      1.208          6       1024: 100%|██████████| 12/12 [00:00<00:00, 17.86it/s]\n",
      "                 Class     Images  Instances      Box(P          R      mAP50  mAP50-95)     Mask(P          R      mAP50  mAP50-95): 100%|██████████| 2/2 [00:00<00:00, 13.20it/s]"
     ]
    },
    {
     "name": "stdout",
     "output_type": "stream",
     "text": [
      "                   all         16         16        0.8        0.5      0.668       0.45        0.8        0.5      0.723      0.643\n"
     ]
    },
    {
     "name": "stderr",
     "output_type": "stream",
     "text": [
      "\n"
     ]
    },
    {
     "name": "stdout",
     "output_type": "stream",
     "text": [
      "\n",
      "      Epoch    GPU_mem   box_loss   seg_loss   cls_loss   dfl_loss  Instances       Size\n"
     ]
    },
    {
     "name": "stderr",
     "output_type": "stream",
     "text": [
      "     30/300      1.95G      1.043     0.8572      2.548      1.085          4       1024: 100%|██████████| 12/12 [00:00<00:00, 17.89it/s]\n",
      "                 Class     Images  Instances      Box(P          R      mAP50  mAP50-95)     Mask(P          R      mAP50  mAP50-95): 100%|██████████| 2/2 [00:00<00:00, 13.12it/s]"
     ]
    },
    {
     "name": "stdout",
     "output_type": "stream",
     "text": [
      "                   all         16         16       0.45      0.921      0.668      0.403      0.458      0.938      0.688       0.61\n"
     ]
    },
    {
     "name": "stderr",
     "output_type": "stream",
     "text": [
      "\n"
     ]
    },
    {
     "name": "stdout",
     "output_type": "stream",
     "text": [
      "\n",
      "      Epoch    GPU_mem   box_loss   seg_loss   cls_loss   dfl_loss  Instances       Size\n"
     ]
    },
    {
     "name": "stderr",
     "output_type": "stream",
     "text": [
      "     31/300      1.81G       1.09     0.8157      2.435      1.104          5       1024: 100%|██████████| 12/12 [00:00<00:00, 17.91it/s]\n",
      "                 Class     Images  Instances      Box(P          R      mAP50  mAP50-95)     Mask(P          R      mAP50  mAP50-95): 100%|██████████| 2/2 [00:00<00:00, 13.47it/s]"
     ]
    },
    {
     "name": "stdout",
     "output_type": "stream",
     "text": [
      "                   all         16         16       0.45      0.921      0.668      0.403      0.458      0.938      0.688       0.61\n"
     ]
    },
    {
     "name": "stderr",
     "output_type": "stream",
     "text": [
      "\n"
     ]
    },
    {
     "name": "stdout",
     "output_type": "stream",
     "text": [
      "\n",
      "      Epoch    GPU_mem   box_loss   seg_loss   cls_loss   dfl_loss  Instances       Size\n"
     ]
    },
    {
     "name": "stderr",
     "output_type": "stream",
     "text": [
      "     32/300      1.81G      1.113     0.8279      2.504      1.098          4       1024: 100%|██████████| 12/12 [00:00<00:00, 17.94it/s]\n",
      "                 Class     Images  Instances      Box(P          R      mAP50  mAP50-95)     Mask(P          R      mAP50  mAP50-95): 100%|██████████| 2/2 [00:00<00:00, 13.38it/s]"
     ]
    },
    {
     "name": "stdout",
     "output_type": "stream",
     "text": [
      "                   all         16         16      0.684      0.948      0.911      0.591      0.684      0.948      0.911      0.803\n"
     ]
    },
    {
     "name": "stderr",
     "output_type": "stream",
     "text": [
      "\n"
     ]
    },
    {
     "name": "stdout",
     "output_type": "stream",
     "text": [
      "\n",
      "      Epoch    GPU_mem   box_loss   seg_loss   cls_loss   dfl_loss  Instances       Size\n"
     ]
    },
    {
     "name": "stderr",
     "output_type": "stream",
     "text": [
      "     33/300      1.81G       1.15     0.9286      2.623       1.11          5       1024: 100%|██████████| 12/12 [00:00<00:00, 17.99it/s]\n",
      "                 Class     Images  Instances      Box(P          R      mAP50  mAP50-95)     Mask(P          R      mAP50  mAP50-95): 100%|██████████| 2/2 [00:00<00:00, 13.65it/s]"
     ]
    },
    {
     "name": "stdout",
     "output_type": "stream",
     "text": [
      "                   all         16         16      0.786          1      0.955      0.622      0.786          1      0.955      0.889\n"
     ]
    },
    {
     "name": "stderr",
     "output_type": "stream",
     "text": [
      "\n"
     ]
    },
    {
     "name": "stdout",
     "output_type": "stream",
     "text": [
      "\n",
      "      Epoch    GPU_mem   box_loss   seg_loss   cls_loss   dfl_loss  Instances       Size\n"
     ]
    },
    {
     "name": "stderr",
     "output_type": "stream",
     "text": [
      "     34/300      1.81G      1.162     0.8005      4.072      1.164          1       1024: 100%|██████████| 12/12 [00:00<00:00, 18.10it/s]\n",
      "                 Class     Images  Instances      Box(P          R      mAP50  mAP50-95)     Mask(P          R      mAP50  mAP50-95): 100%|██████████| 2/2 [00:00<00:00, 13.47it/s]"
     ]
    },
    {
     "name": "stdout",
     "output_type": "stream",
     "text": [
      "                   all         16         16      0.799      0.875      0.897      0.562      0.799      0.875      0.897      0.823\n"
     ]
    },
    {
     "name": "stderr",
     "output_type": "stream",
     "text": [
      "\n"
     ]
    },
    {
     "name": "stdout",
     "output_type": "stream",
     "text": [
      "\n",
      "      Epoch    GPU_mem   box_loss   seg_loss   cls_loss   dfl_loss  Instances       Size\n"
     ]
    },
    {
     "name": "stderr",
     "output_type": "stream",
     "text": [
      "     35/300      1.95G      1.045     0.7254      2.232      1.086          5       1024: 100%|██████████| 12/12 [00:00<00:00, 17.94it/s]\n",
      "                 Class     Images  Instances      Box(P          R      mAP50  mAP50-95)     Mask(P          R      mAP50  mAP50-95): 100%|██████████| 2/2 [00:00<00:00, 13.47it/s]"
     ]
    },
    {
     "name": "stdout",
     "output_type": "stream",
     "text": [
      "                   all         16         16      0.799      0.875      0.897      0.562      0.799      0.875      0.897      0.823\n"
     ]
    },
    {
     "name": "stderr",
     "output_type": "stream",
     "text": [
      "\n"
     ]
    },
    {
     "name": "stdout",
     "output_type": "stream",
     "text": [
      "\n",
      "      Epoch    GPU_mem   box_loss   seg_loss   cls_loss   dfl_loss  Instances       Size\n"
     ]
    },
    {
     "name": "stderr",
     "output_type": "stream",
     "text": [
      "     36/300      1.81G      1.141      1.015      2.629      1.129          2       1024: 100%|██████████| 12/12 [00:00<00:00, 18.02it/s]\n",
      "                 Class     Images  Instances      Box(P          R      mAP50  mAP50-95)     Mask(P          R      mAP50  mAP50-95): 100%|██████████| 2/2 [00:00<00:00, 13.46it/s]"
     ]
    },
    {
     "name": "stdout",
     "output_type": "stream",
     "text": [
      "                   all         16         16      0.744      0.908      0.897      0.516      0.744      0.908      0.897      0.805\n"
     ]
    },
    {
     "name": "stderr",
     "output_type": "stream",
     "text": [
      "\n"
     ]
    },
    {
     "name": "stdout",
     "output_type": "stream",
     "text": [
      "\n",
      "      Epoch    GPU_mem   box_loss   seg_loss   cls_loss   dfl_loss  Instances       Size\n"
     ]
    },
    {
     "name": "stderr",
     "output_type": "stream",
     "text": [
      "     37/300      1.95G      1.034     0.7438      2.307       1.06          3       1024: 100%|██████████| 12/12 [00:00<00:00, 17.68it/s]\n",
      "                 Class     Images  Instances      Box(P          R      mAP50  mAP50-95)     Mask(P          R      mAP50  mAP50-95): 100%|██████████| 2/2 [00:00<00:00, 13.20it/s]"
     ]
    },
    {
     "name": "stdout",
     "output_type": "stream",
     "text": [
      "                   all         16         16      0.761      0.938      0.872      0.542      0.761      0.938      0.872      0.702\n"
     ]
    },
    {
     "name": "stderr",
     "output_type": "stream",
     "text": [
      "\n"
     ]
    },
    {
     "name": "stdout",
     "output_type": "stream",
     "text": [
      "\n",
      "      Epoch    GPU_mem   box_loss   seg_loss   cls_loss   dfl_loss  Instances       Size\n"
     ]
    },
    {
     "name": "stderr",
     "output_type": "stream",
     "text": [
      "     38/300      1.95G      1.089     0.8291      2.381      1.086          3       1024: 100%|██████████| 12/12 [00:00<00:00, 17.81it/s]\n",
      "                 Class     Images  Instances      Box(P          R      mAP50  mAP50-95)     Mask(P          R      mAP50  mAP50-95): 100%|██████████| 2/2 [00:00<00:00, 13.20it/s]"
     ]
    },
    {
     "name": "stdout",
     "output_type": "stream",
     "text": [
      "                   all         16         16       0.94      0.978      0.966      0.664       0.94      0.978      0.966      0.831\n"
     ]
    },
    {
     "name": "stderr",
     "output_type": "stream",
     "text": [
      "\n"
     ]
    },
    {
     "name": "stdout",
     "output_type": "stream",
     "text": [
      "\n",
      "      Epoch    GPU_mem   box_loss   seg_loss   cls_loss   dfl_loss  Instances       Size\n"
     ]
    },
    {
     "name": "stderr",
     "output_type": "stream",
     "text": [
      "     39/300      1.81G      1.028     0.7507       2.14      1.077          3       1024: 100%|██████████| 12/12 [00:00<00:00, 18.29it/s]\n",
      "                 Class     Images  Instances      Box(P          R      mAP50  mAP50-95)     Mask(P          R      mAP50  mAP50-95): 100%|██████████| 2/2 [00:00<00:00, 13.12it/s]"
     ]
    },
    {
     "name": "stdout",
     "output_type": "stream",
     "text": [
      "                   all         16         16       0.94      0.978      0.966      0.664       0.94      0.978      0.966      0.831\n"
     ]
    },
    {
     "name": "stderr",
     "output_type": "stream",
     "text": [
      "\n"
     ]
    },
    {
     "name": "stdout",
     "output_type": "stream",
     "text": [
      "\n",
      "      Epoch    GPU_mem   box_loss   seg_loss   cls_loss   dfl_loss  Instances       Size\n"
     ]
    },
    {
     "name": "stderr",
     "output_type": "stream",
     "text": [
      "     40/300      1.81G      1.062      1.036      2.331      1.068          4       1024: 100%|██████████| 12/12 [00:00<00:00, 18.02it/s]\n",
      "                 Class     Images  Instances      Box(P          R      mAP50  mAP50-95)     Mask(P          R      mAP50  mAP50-95): 100%|██████████| 2/2 [00:00<00:00, 13.03it/s]"
     ]
    },
    {
     "name": "stdout",
     "output_type": "stream",
     "text": [
      "                   all         16         16       0.94      0.986      0.977      0.654       0.94      0.986      0.977      0.837\n"
     ]
    },
    {
     "name": "stderr",
     "output_type": "stream",
     "text": [
      "\n"
     ]
    },
    {
     "name": "stdout",
     "output_type": "stream",
     "text": [
      "\n",
      "      Epoch    GPU_mem   box_loss   seg_loss   cls_loss   dfl_loss  Instances       Size\n"
     ]
    },
    {
     "name": "stderr",
     "output_type": "stream",
     "text": [
      "     41/300      1.95G      1.089      1.046      2.402      1.074          7       1024: 100%|██████████| 12/12 [00:00<00:00, 17.81it/s]\n",
      "                 Class     Images  Instances      Box(P          R      mAP50  mAP50-95)     Mask(P          R      mAP50  mAP50-95): 100%|██████████| 2/2 [00:00<00:00, 12.86it/s]"
     ]
    },
    {
     "name": "stdout",
     "output_type": "stream",
     "text": [
      "                   all         16         16      0.996          1      0.995      0.684      0.996          1      0.995      0.859\n"
     ]
    },
    {
     "name": "stderr",
     "output_type": "stream",
     "text": [
      "\n"
     ]
    },
    {
     "name": "stdout",
     "output_type": "stream",
     "text": [
      "\n",
      "      Epoch    GPU_mem   box_loss   seg_loss   cls_loss   dfl_loss  Instances       Size\n"
     ]
    },
    {
     "name": "stderr",
     "output_type": "stream",
     "text": [
      "     42/300      1.81G      1.119      0.882      2.049      1.051          5       1024: 100%|██████████| 12/12 [00:00<00:00, 17.70it/s]\n",
      "                 Class     Images  Instances      Box(P          R      mAP50  mAP50-95)     Mask(P          R      mAP50  mAP50-95): 100%|██████████| 2/2 [00:00<00:00, 13.38it/s]"
     ]
    },
    {
     "name": "stdout",
     "output_type": "stream",
     "text": [
      "                   all         16         16      0.928          1      0.991      0.682      0.928          1      0.991      0.887\n"
     ]
    },
    {
     "name": "stderr",
     "output_type": "stream",
     "text": [
      "\n"
     ]
    },
    {
     "name": "stdout",
     "output_type": "stream",
     "text": [
      "\n",
      "      Epoch    GPU_mem   box_loss   seg_loss   cls_loss   dfl_loss  Instances       Size\n"
     ]
    },
    {
     "name": "stderr",
     "output_type": "stream",
     "text": [
      "     43/300      1.81G     0.9522     0.6603      1.883      1.025          6       1024: 100%|██████████| 12/12 [00:00<00:00, 17.80it/s]\n",
      "                 Class     Images  Instances      Box(P          R      mAP50  mAP50-95)     Mask(P          R      mAP50  mAP50-95): 100%|██████████| 2/2 [00:00<00:00, 13.56it/s]"
     ]
    },
    {
     "name": "stdout",
     "output_type": "stream",
     "text": [
      "                   all         16         16      0.928          1      0.991      0.682      0.928          1      0.991      0.887\n"
     ]
    },
    {
     "name": "stderr",
     "output_type": "stream",
     "text": [
      "\n"
     ]
    },
    {
     "name": "stdout",
     "output_type": "stream",
     "text": [
      "\n",
      "      Epoch    GPU_mem   box_loss   seg_loss   cls_loss   dfl_loss  Instances       Size\n"
     ]
    },
    {
     "name": "stderr",
     "output_type": "stream",
     "text": [
      "     44/300      1.81G      1.028     0.6821      2.111      1.071          2       1024: 100%|██████████| 12/12 [00:00<00:00, 17.97it/s]\n",
      "                 Class     Images  Instances      Box(P          R      mAP50  mAP50-95)     Mask(P          R      mAP50  mAP50-95): 100%|██████████| 2/2 [00:00<00:00, 13.28it/s]"
     ]
    },
    {
     "name": "stdout",
     "output_type": "stream",
     "text": [
      "                   all         16         16      0.842      0.938      0.978      0.698      0.842      0.938      0.978       0.88\n"
     ]
    },
    {
     "name": "stderr",
     "output_type": "stream",
     "text": [
      "\n"
     ]
    },
    {
     "name": "stdout",
     "output_type": "stream",
     "text": [
      "\n",
      "      Epoch    GPU_mem   box_loss   seg_loss   cls_loss   dfl_loss  Instances       Size\n"
     ]
    },
    {
     "name": "stderr",
     "output_type": "stream",
     "text": [
      "     45/300      1.81G     0.9868     0.7175      1.848      1.034          8       1024: 100%|██████████| 12/12 [00:00<00:00, 17.97it/s]\n",
      "                 Class     Images  Instances      Box(P          R      mAP50  mAP50-95)     Mask(P          R      mAP50  mAP50-95): 100%|██████████| 2/2 [00:00<00:00, 13.38it/s]"
     ]
    },
    {
     "name": "stdout",
     "output_type": "stream",
     "text": [
      "                   all         16         16      0.926      0.938      0.985      0.747      0.926      0.938      0.985      0.914\n"
     ]
    },
    {
     "name": "stderr",
     "output_type": "stream",
     "text": [
      "\n"
     ]
    },
    {
     "name": "stdout",
     "output_type": "stream",
     "text": [
      "\n",
      "      Epoch    GPU_mem   box_loss   seg_loss   cls_loss   dfl_loss  Instances       Size\n"
     ]
    },
    {
     "name": "stderr",
     "output_type": "stream",
     "text": [
      "     46/300      1.95G      1.019     0.7904       2.39      1.058          3       1024: 100%|██████████| 12/12 [00:00<00:00, 17.97it/s]\n",
      "                 Class     Images  Instances      Box(P          R      mAP50  mAP50-95)     Mask(P          R      mAP50  mAP50-95): 100%|██████████| 2/2 [00:00<00:00, 13.29it/s]"
     ]
    },
    {
     "name": "stdout",
     "output_type": "stream",
     "text": [
      "                   all         16         16          1      0.998      0.995      0.778          1      0.998      0.995      0.928\n"
     ]
    },
    {
     "name": "stderr",
     "output_type": "stream",
     "text": [
      "\n"
     ]
    },
    {
     "name": "stdout",
     "output_type": "stream",
     "text": [
      "\n",
      "      Epoch    GPU_mem   box_loss   seg_loss   cls_loss   dfl_loss  Instances       Size\n"
     ]
    },
    {
     "name": "stderr",
     "output_type": "stream",
     "text": [
      "     47/300      1.81G     0.8706     0.5476      2.112      1.006          7       1024: 100%|██████████| 12/12 [00:00<00:00, 18.30it/s]\n",
      "                 Class     Images  Instances      Box(P          R      mAP50  mAP50-95)     Mask(P          R      mAP50  mAP50-95): 100%|██████████| 2/2 [00:00<00:00, 13.47it/s]"
     ]
    },
    {
     "name": "stdout",
     "output_type": "stream",
     "text": [
      "                   all         16         16          1      0.998      0.995      0.778          1      0.998      0.995      0.928\n"
     ]
    },
    {
     "name": "stderr",
     "output_type": "stream",
     "text": [
      "\n"
     ]
    },
    {
     "name": "stdout",
     "output_type": "stream",
     "text": [
      "\n",
      "      Epoch    GPU_mem   box_loss   seg_loss   cls_loss   dfl_loss  Instances       Size\n"
     ]
    },
    {
     "name": "stderr",
     "output_type": "stream",
     "text": [
      "     48/300      1.95G     0.9337      0.693      2.019      1.032          5       1024: 100%|██████████| 12/12 [00:00<00:00, 18.03it/s]\n",
      "                 Class     Images  Instances      Box(P          R      mAP50  mAP50-95)     Mask(P          R      mAP50  mAP50-95): 100%|██████████| 2/2 [00:00<00:00, 13.47it/s]"
     ]
    },
    {
     "name": "stdout",
     "output_type": "stream",
     "text": [
      "                   all         16         16      0.985          1      0.995      0.812      0.985          1      0.995      0.924\n"
     ]
    },
    {
     "name": "stderr",
     "output_type": "stream",
     "text": [
      "\n"
     ]
    },
    {
     "name": "stdout",
     "output_type": "stream",
     "text": [
      "\n",
      "      Epoch    GPU_mem   box_loss   seg_loss   cls_loss   dfl_loss  Instances       Size\n"
     ]
    },
    {
     "name": "stderr",
     "output_type": "stream",
     "text": [
      "     49/300      1.95G     0.9511     0.6573      1.956     0.9986          4       1024: 100%|██████████| 12/12 [00:00<00:00, 17.81it/s]\n",
      "                 Class     Images  Instances      Box(P          R      mAP50  mAP50-95)     Mask(P          R      mAP50  mAP50-95): 100%|██████████| 2/2 [00:00<00:00, 13.47it/s]"
     ]
    },
    {
     "name": "stdout",
     "output_type": "stream",
     "text": [
      "                   all         16         16      0.998          1      0.995      0.837      0.998          1      0.995      0.912\n"
     ]
    },
    {
     "name": "stderr",
     "output_type": "stream",
     "text": [
      "\n"
     ]
    },
    {
     "name": "stdout",
     "output_type": "stream",
     "text": [
      "\n",
      "      Epoch    GPU_mem   box_loss   seg_loss   cls_loss   dfl_loss  Instances       Size\n"
     ]
    },
    {
     "name": "stderr",
     "output_type": "stream",
     "text": [
      "     50/300      1.81G      0.956     0.6605      1.834      1.027          7       1024: 100%|██████████| 12/12 [00:00<00:00, 17.86it/s]\n",
      "                 Class     Images  Instances      Box(P          R      mAP50  mAP50-95)     Mask(P          R      mAP50  mAP50-95): 100%|██████████| 2/2 [00:00<00:00, 13.64it/s]"
     ]
    },
    {
     "name": "stdout",
     "output_type": "stream",
     "text": [
      "                   all         16         16          1      0.993      0.995      0.872          1      0.993      0.995      0.911\n"
     ]
    },
    {
     "name": "stderr",
     "output_type": "stream",
     "text": [
      "\n"
     ]
    },
    {
     "name": "stdout",
     "output_type": "stream",
     "text": [
      "\n",
      "      Epoch    GPU_mem   box_loss   seg_loss   cls_loss   dfl_loss  Instances       Size\n"
     ]
    },
    {
     "name": "stderr",
     "output_type": "stream",
     "text": [
      "     51/300      1.94G     0.8866     0.5841      1.622      1.019          6       1024: 100%|██████████| 12/12 [00:00<00:00, 17.94it/s]\n",
      "                 Class     Images  Instances      Box(P          R      mAP50  mAP50-95)     Mask(P          R      mAP50  mAP50-95): 100%|██████████| 2/2 [00:00<00:00, 13.65it/s]"
     ]
    },
    {
     "name": "stdout",
     "output_type": "stream",
     "text": [
      "                   all         16         16          1      0.993      0.995      0.872          1      0.993      0.995      0.911\n"
     ]
    },
    {
     "name": "stderr",
     "output_type": "stream",
     "text": [
      "\n"
     ]
    },
    {
     "name": "stdout",
     "output_type": "stream",
     "text": [
      "\n",
      "      Epoch    GPU_mem   box_loss   seg_loss   cls_loss   dfl_loss  Instances       Size\n"
     ]
    },
    {
     "name": "stderr",
     "output_type": "stream",
     "text": [
      "     52/300      1.81G     0.8491     0.5559      1.561     0.9966          3       1024: 100%|██████████| 12/12 [00:00<00:00, 17.83it/s]\n",
      "                 Class     Images  Instances      Box(P          R      mAP50  mAP50-95)     Mask(P          R      mAP50  mAP50-95): 100%|██████████| 2/2 [00:00<00:00, 13.65it/s]"
     ]
    },
    {
     "name": "stdout",
     "output_type": "stream",
     "text": [
      "                   all         16         16       0.93          1      0.988      0.876       0.93          1      0.988        0.9\n"
     ]
    },
    {
     "name": "stderr",
     "output_type": "stream",
     "text": [
      "\n"
     ]
    },
    {
     "name": "stdout",
     "output_type": "stream",
     "text": [
      "\n",
      "      Epoch    GPU_mem   box_loss   seg_loss   cls_loss   dfl_loss  Instances       Size\n"
     ]
    },
    {
     "name": "stderr",
     "output_type": "stream",
     "text": [
      "     53/300      1.94G     0.8534     0.5535      1.553      1.054          3       1024: 100%|██████████| 12/12 [00:00<00:00, 17.89it/s]\n",
      "                 Class     Images  Instances      Box(P          R      mAP50  mAP50-95)     Mask(P          R      mAP50  mAP50-95): 100%|██████████| 2/2 [00:00<00:00, 13.56it/s]"
     ]
    },
    {
     "name": "stdout",
     "output_type": "stream",
     "text": [
      "                   all         16         16      0.947          1      0.995       0.88      0.947          1      0.995       0.93\n"
     ]
    },
    {
     "name": "stderr",
     "output_type": "stream",
     "text": [
      "\n"
     ]
    },
    {
     "name": "stdout",
     "output_type": "stream",
     "text": [
      "\n",
      "      Epoch    GPU_mem   box_loss   seg_loss   cls_loss   dfl_loss  Instances       Size\n"
     ]
    },
    {
     "name": "stderr",
     "output_type": "stream",
     "text": [
      "     54/300      1.95G     0.8477     0.5906      1.365     0.9773          7       1024: 100%|██████████| 12/12 [00:00<00:00, 17.89it/s]\n",
      "                 Class     Images  Instances      Box(P          R      mAP50  mAP50-95)     Mask(P          R      mAP50  mAP50-95): 100%|██████████| 2/2 [00:00<00:00, 13.56it/s]"
     ]
    },
    {
     "name": "stdout",
     "output_type": "stream",
     "text": [
      "                   all         16         16      0.991          1      0.995      0.861      0.991          1      0.995      0.948\n"
     ]
    },
    {
     "name": "stderr",
     "output_type": "stream",
     "text": [
      "\n"
     ]
    },
    {
     "name": "stdout",
     "output_type": "stream",
     "text": [
      "\n",
      "      Epoch    GPU_mem   box_loss   seg_loss   cls_loss   dfl_loss  Instances       Size\n"
     ]
    },
    {
     "name": "stderr",
     "output_type": "stream",
     "text": [
      "     55/300      1.81G     0.8183     0.5455      1.661      1.037          8       1024: 100%|██████████| 12/12 [00:00<00:00, 18.10it/s]\n",
      "                 Class     Images  Instances      Box(P          R      mAP50  mAP50-95)     Mask(P          R      mAP50  mAP50-95): 100%|██████████| 2/2 [00:00<00:00, 13.55it/s]"
     ]
    },
    {
     "name": "stdout",
     "output_type": "stream",
     "text": [
      "                   all         16         16      0.991          1      0.995      0.861      0.991          1      0.995      0.948\n"
     ]
    },
    {
     "name": "stderr",
     "output_type": "stream",
     "text": [
      "\n"
     ]
    },
    {
     "name": "stdout",
     "output_type": "stream",
     "text": [
      "\n",
      "      Epoch    GPU_mem   box_loss   seg_loss   cls_loss   dfl_loss  Instances       Size\n"
     ]
    },
    {
     "name": "stderr",
     "output_type": "stream",
     "text": [
      "     56/300      1.81G     0.7744      0.594      1.483     0.9772          5       1024: 100%|██████████| 12/12 [00:00<00:00, 17.86it/s]\n",
      "                 Class     Images  Instances      Box(P          R      mAP50  mAP50-95)     Mask(P          R      mAP50  mAP50-95): 100%|██████████| 2/2 [00:00<00:00, 13.65it/s]"
     ]
    },
    {
     "name": "stdout",
     "output_type": "stream",
     "text": [
      "                   all         16         16          1       0.91      0.986      0.874          1       0.91      0.986      0.913\n"
     ]
    },
    {
     "name": "stderr",
     "output_type": "stream",
     "text": [
      "\n"
     ]
    },
    {
     "name": "stdout",
     "output_type": "stream",
     "text": [
      "\n",
      "      Epoch    GPU_mem   box_loss   seg_loss   cls_loss   dfl_loss  Instances       Size\n"
     ]
    },
    {
     "name": "stderr",
     "output_type": "stream",
     "text": [
      "     57/300      1.81G     0.9107      0.684       1.35      1.019          6       1024: 100%|██████████| 12/12 [00:00<00:00, 17.92it/s]\n",
      "                 Class     Images  Instances      Box(P          R      mAP50  mAP50-95)     Mask(P          R      mAP50  mAP50-95): 100%|██████████| 2/2 [00:00<00:00, 13.74it/s]"
     ]
    },
    {
     "name": "stdout",
     "output_type": "stream",
     "text": [
      "                   all         16         16      0.954      0.938      0.977      0.859      0.954      0.938      0.977      0.915\n"
     ]
    },
    {
     "name": "stderr",
     "output_type": "stream",
     "text": [
      "\n"
     ]
    },
    {
     "name": "stdout",
     "output_type": "stream",
     "text": [
      "\n",
      "      Epoch    GPU_mem   box_loss   seg_loss   cls_loss   dfl_loss  Instances       Size\n"
     ]
    },
    {
     "name": "stderr",
     "output_type": "stream",
     "text": [
      "     58/300      1.81G     0.8552     0.6153      1.577      1.005          6       1024: 100%|██████████| 12/12 [00:00<00:00, 17.70it/s]\n",
      "                 Class     Images  Instances      Box(P          R      mAP50  mAP50-95)     Mask(P          R      mAP50  mAP50-95): 100%|██████████| 2/2 [00:00<00:00, 13.64it/s]"
     ]
    },
    {
     "name": "stdout",
     "output_type": "stream",
     "text": [
      "                   all         16         16      0.994      0.938      0.979      0.856      0.994      0.938      0.979      0.938\n"
     ]
    },
    {
     "name": "stderr",
     "output_type": "stream",
     "text": [
      "\n"
     ]
    },
    {
     "name": "stdout",
     "output_type": "stream",
     "text": [
      "\n",
      "      Epoch    GPU_mem   box_loss   seg_loss   cls_loss   dfl_loss  Instances       Size\n"
     ]
    },
    {
     "name": "stderr",
     "output_type": "stream",
     "text": [
      "     59/300      1.95G     0.8413     0.7364       1.37     0.9783          8       1024: 100%|██████████| 12/12 [00:00<00:00, 18.10it/s]\n",
      "                 Class     Images  Instances      Box(P          R      mAP50  mAP50-95)     Mask(P          R      mAP50  mAP50-95): 100%|██████████| 2/2 [00:00<00:00, 13.74it/s]"
     ]
    },
    {
     "name": "stdout",
     "output_type": "stream",
     "text": [
      "                   all         16         16      0.994      0.938      0.979      0.856      0.994      0.938      0.979      0.938\n"
     ]
    },
    {
     "name": "stderr",
     "output_type": "stream",
     "text": [
      "\n"
     ]
    },
    {
     "name": "stdout",
     "output_type": "stream",
     "text": [
      "\n",
      "      Epoch    GPU_mem   box_loss   seg_loss   cls_loss   dfl_loss  Instances       Size\n"
     ]
    },
    {
     "name": "stderr",
     "output_type": "stream",
     "text": [
      "     60/300      1.95G     0.7361     0.5493      1.957     0.9571          7       1024: 100%|██████████| 12/12 [00:00<00:00, 17.81it/s]\n",
      "                 Class     Images  Instances      Box(P          R      mAP50  mAP50-95)     Mask(P          R      mAP50  mAP50-95): 100%|██████████| 2/2 [00:00<00:00, 13.65it/s]"
     ]
    },
    {
     "name": "stdout",
     "output_type": "stream",
     "text": [
      "                   all         16         16          1       0.93      0.965      0.773          1       0.93      0.965       0.87\n"
     ]
    },
    {
     "name": "stderr",
     "output_type": "stream",
     "text": [
      "\n"
     ]
    },
    {
     "name": "stdout",
     "output_type": "stream",
     "text": [
      "\n",
      "      Epoch    GPU_mem   box_loss   seg_loss   cls_loss   dfl_loss  Instances       Size\n"
     ]
    },
    {
     "name": "stderr",
     "output_type": "stream",
     "text": [
      "     61/300      1.81G      1.001       0.78       1.76      1.036          3       1024: 100%|██████████| 12/12 [00:00<00:00, 17.86it/s]\n",
      "                 Class     Images  Instances      Box(P          R      mAP50  mAP50-95)     Mask(P          R      mAP50  mAP50-95): 100%|██████████| 2/2 [00:00<00:00, 13.74it/s]"
     ]
    },
    {
     "name": "stdout",
     "output_type": "stream",
     "text": [
      "                   all         16         16          1       0.93      0.968      0.765          1       0.93      0.968      0.877\n"
     ]
    },
    {
     "name": "stderr",
     "output_type": "stream",
     "text": [
      "\n"
     ]
    },
    {
     "name": "stdout",
     "output_type": "stream",
     "text": [
      "\n",
      "      Epoch    GPU_mem   box_loss   seg_loss   cls_loss   dfl_loss  Instances       Size\n"
     ]
    },
    {
     "name": "stderr",
     "output_type": "stream",
     "text": [
      "     62/300      1.81G     0.9614      0.629      1.794       1.02          2       1024: 100%|██████████| 12/12 [00:00<00:00, 17.99it/s]\n",
      "                 Class     Images  Instances      Box(P          R      mAP50  mAP50-95)     Mask(P          R      mAP50  mAP50-95): 100%|██████████| 2/2 [00:00<00:00, 13.55it/s]"
     ]
    },
    {
     "name": "stdout",
     "output_type": "stream",
     "text": [
      "                   all         16         16          1      0.937      0.995      0.778          1      0.937      0.995      0.948\n"
     ]
    },
    {
     "name": "stderr",
     "output_type": "stream",
     "text": [
      "\n"
     ]
    },
    {
     "name": "stdout",
     "output_type": "stream",
     "text": [
      "\n",
      "      Epoch    GPU_mem   box_loss   seg_loss   cls_loss   dfl_loss  Instances       Size\n"
     ]
    },
    {
     "name": "stderr",
     "output_type": "stream",
     "text": [
      "     63/300      1.81G     0.9054     0.5522      1.303     0.9874          5       1024: 100%|██████████| 12/12 [00:00<00:00, 18.05it/s]\n",
      "                 Class     Images  Instances      Box(P          R      mAP50  mAP50-95)     Mask(P          R      mAP50  mAP50-95): 100%|██████████| 2/2 [00:00<00:00, 13.74it/s]"
     ]
    },
    {
     "name": "stdout",
     "output_type": "stream",
     "text": [
      "                   all         16         16          1      0.937      0.995      0.778          1      0.937      0.995      0.948\n",
      "Stopping training early as no improvement observed in last 10 epochs. Best results observed at epoch 53, best model saved as best.pt.\n",
      "To update EarlyStopping(patience=10) pass a new patience value, i.e. `patience=300` or use `patience=0` to disable EarlyStopping.\n"
     ]
    },
    {
     "name": "stderr",
     "output_type": "stream",
     "text": [
      "\n"
     ]
    },
    {
     "name": "stdout",
     "output_type": "stream",
     "text": [
      "\n",
      "63 epochs completed in 0.019 hours.\n",
      "Optimizer stripped from runs\\segment\\train3\\weights\\last.pt, 6.8MB\n",
      "Optimizer stripped from runs\\segment\\train3\\weights\\best.pt, 6.8MB\n",
      "\n",
      "Validating runs\\segment\\train3\\weights\\best.pt...\n",
      "Ultralytics YOLOv8.0.227 🚀 Python-3.10.13 torch-2.1.2 CUDA:0 (NVIDIA GeForce RTX 4070, 12282MiB)\n",
      "YOLOv8n-seg summary (fused): 195 layers, 3258259 parameters, 0 gradients, 12.0 GFLOPs\n"
     ]
    },
    {
     "name": "stderr",
     "output_type": "stream",
     "text": [
      "                 Class     Images  Instances      Box(P          R      mAP50  mAP50-95)     Mask(P          R      mAP50  mAP50-95): 100%|██████████| 2/2 [00:00<00:00, 12.62it/s]\n"
     ]
    },
    {
     "name": "stdout",
     "output_type": "stream",
     "text": [
      "                   all         16         16      0.944          1      0.995       0.88      0.944          1      0.995       0.93\n",
      "Speed: 0.2ms preprocess, 2.1ms inference, 0.0ms loss, 1.5ms postprocess per image\n",
      "Results saved to \u001b[1mruns\\segment\\train3\u001b[0m\n",
      "Ultralytics YOLOv8.0.227 🚀 Python-3.10.13 torch-2.1.2 CUDA:0 (NVIDIA GeForce RTX 4070, 12282MiB)\n",
      "YOLOv8n-seg summary (fused): 195 layers, 3258259 parameters, 0 gradients, 12.0 GFLOPs\n",
      "\n",
      "\u001b[34m\u001b[1mPyTorch:\u001b[0m starting from 'runs\\segment\\train3\\weights\\best.pt' with input shape (1, 3, 1024, 1024) BCHW and output shape(s) ((1, 37, 21504), (1, 32, 256, 256)) (6.5 MB)\n",
      "\n",
      "\u001b[34m\u001b[1mONNX:\u001b[0m starting export with onnx 1.15.0 opset 17...\n",
      "\u001b[34m\u001b[1mONNX:\u001b[0m export success ✅ 0.5s, saved as 'runs\\segment\\train3\\weights\\best.onnx' (12.9 MB)\n",
      "\n",
      "Export complete (0.6s)\n",
      "Results saved to \u001b[1mC:\\Users\\User\\Desktop\\C_VSCode\\CVAT\\runs\\segment\\train3\\weights\u001b[0m\n",
      "Predict:         yolo predict task=segment model=runs\\segment\\train3\\weights\\best.onnx imgsz=1024  \n",
      "Validate:        yolo val task=segment model=runs\\segment\\train3\\weights\\best.onnx imgsz=1024 data=yoloseg.yaml  \n",
      "Visualize:       https://netron.app\n"
     ]
    },
    {
     "data": {
      "text/plain": [
       "'runs\\\\segment\\\\train3\\\\weights\\\\best.onnx'"
      ]
     },
     "execution_count": 4,
     "metadata": {},
     "output_type": "execute_result"
    }
   ],
   "source": [
    "from ultralytics import YOLO\n",
    "model = YOLO('yolov8n-seg.pt')\n",
    "# pretrained_model = YOLO(\"yoloseg.yaml\").load('yolov8n-seg.pt')\n",
    "# model.load_state_dict(pretrained_model.state_dict())\n",
    "for param in model.parameters():\n",
    "    param.requires_grad = False\n",
    "for name, param in model.named_parameters():\n",
    "    print(f\"Layer: {name}, Size: {param.size()}\")\n",
    "\n",
    "train_params = {\n",
    "    'data': 'yoloseg.yaml',\n",
    "    'epochs': 300,\n",
    "    'batch': 4,\n",
    "    'imgsz': 1024,\n",
    "    'device': [0],\n",
    "    'patience': 10\n",
    "}\n",
    "\n",
    "results = model.train(**train_params)\n",
    "model.export(format='onnx')"
   ]
  }
 ],
 "metadata": {
  "kernelspec": {
   "display_name": "yoloseg",
   "language": "python",
   "name": "python3"
  },
  "language_info": {
   "codemirror_mode": {
    "name": "ipython",
    "version": 3
   },
   "file_extension": ".py",
   "mimetype": "text/x-python",
   "name": "python",
   "nbconvert_exporter": "python",
   "pygments_lexer": "ipython3",
   "version": "3.10.13"
  }
 },
 "nbformat": 4,
 "nbformat_minor": 2
}
